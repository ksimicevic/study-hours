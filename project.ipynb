{
 "cells": [
  {
   "cell_type": "code",
   "execution_count": 61,
   "metadata": {
    "collapsed": true
   },
   "outputs": [],
   "source": [
    "import pandas as pd\n",
    "import matplotlib.pyplot as plt\n",
    "import seaborn as sns\n",
    "import numpy as np"
   ]
  },
  {
   "cell_type": "code",
   "execution_count": 57,
   "outputs": [
    {
     "data": {
      "text/plain": "         Date  Start    End  Subject  Action\n0  28.9.2020.  12:00  14:00  INZEKO1  lesson\n1  28.9.2020.  16:00  19:00   OPRPP1  lesson\n2  29.9.2020.  13:00  16:00       PI  lesson\n3  29.9.2020.  16:00  19:00      SAP  lesson\n4  30.9.2020.  09:00  10:00      PPJ  lesson",
      "text/html": "<div>\n<style scoped>\n    .dataframe tbody tr th:only-of-type {\n        vertical-align: middle;\n    }\n\n    .dataframe tbody tr th {\n        vertical-align: top;\n    }\n\n    .dataframe thead th {\n        text-align: right;\n    }\n</style>\n<table border=\"1\" class=\"dataframe\">\n  <thead>\n    <tr style=\"text-align: right;\">\n      <th></th>\n      <th>Date</th>\n      <th>Start</th>\n      <th>End</th>\n      <th>Subject</th>\n      <th>Action</th>\n    </tr>\n  </thead>\n  <tbody>\n    <tr>\n      <th>0</th>\n      <td>28.9.2020.</td>\n      <td>12:00</td>\n      <td>14:00</td>\n      <td>INZEKO1</td>\n      <td>lesson</td>\n    </tr>\n    <tr>\n      <th>1</th>\n      <td>28.9.2020.</td>\n      <td>16:00</td>\n      <td>19:00</td>\n      <td>OPRPP1</td>\n      <td>lesson</td>\n    </tr>\n    <tr>\n      <th>2</th>\n      <td>29.9.2020.</td>\n      <td>13:00</td>\n      <td>16:00</td>\n      <td>PI</td>\n      <td>lesson</td>\n    </tr>\n    <tr>\n      <th>3</th>\n      <td>29.9.2020.</td>\n      <td>16:00</td>\n      <td>19:00</td>\n      <td>SAP</td>\n      <td>lesson</td>\n    </tr>\n    <tr>\n      <th>4</th>\n      <td>30.9.2020.</td>\n      <td>09:00</td>\n      <td>10:00</td>\n      <td>PPJ</td>\n      <td>lesson</td>\n    </tr>\n  </tbody>\n</table>\n</div>"
     },
     "execution_count": 57,
     "metadata": {},
     "output_type": "execute_result"
    }
   ],
   "source": [
    "winter_df = pd.read_csv(\"winter-semester.csv\")\n",
    "summer_df = pd.read_csv(\"summer-semester.csv\")\n",
    "ects = pd.read_csv(\"ects.csv\")\n",
    "\n",
    "winter_df.head()"
   ],
   "metadata": {
    "collapsed": false,
    "pycharm": {
     "name": "#%%\n"
    }
   }
  },
  {
   "cell_type": "code",
   "execution_count": 58,
   "outputs": [],
   "source": [
    "def transform_datasets(_winter_df: pd.DataFrame, _summer_df: pd.DataFrame) -> pd.DataFrame:\n",
    "    _winter_df['Semester'] = 'W'\n",
    "    _summer_df['Semester'] = 'S'\n",
    "    _df = pd.concat([_winter_df, _summer_df], axis=0)\n",
    "\n",
    "    _df['Start'] = pd.to_datetime(_df['Date'] + \" \" + _df['Start'])\n",
    "    _df['End'] = pd.to_datetime(_df['Date'] + \" \" + _df['End'])\n",
    "    _df.insert(3, 'Duration [hrs]', (_df['End'] - _df['Start']) / pd.Timedelta(hours=1))\n",
    "    return _df"
   ],
   "metadata": {
    "collapsed": false,
    "pycharm": {
     "name": "#%%\n"
    }
   }
  },
  {
   "cell_type": "code",
   "execution_count": 59,
   "outputs": [
    {
     "data": {
      "text/plain": "         Date               Start                 End  Duration [hrs]  \\\n0  28.9.2020. 2020-09-28 12:00:00 2020-09-28 14:00:00             2.0   \n1  28.9.2020. 2020-09-28 16:00:00 2020-09-28 19:00:00             3.0   \n2  29.9.2020. 2020-09-29 13:00:00 2020-09-29 16:00:00             3.0   \n3  29.9.2020. 2020-09-29 16:00:00 2020-09-29 19:00:00             3.0   \n4  30.9.2020. 2020-09-30 09:00:00 2020-09-30 10:00:00             1.0   \n\n   Subject  Action Semester  \n0  INZEKO1  lesson        W  \n1   OPRPP1  lesson        W  \n2       PI  lesson        W  \n3      SAP  lesson        W  \n4      PPJ  lesson        W  ",
      "text/html": "<div>\n<style scoped>\n    .dataframe tbody tr th:only-of-type {\n        vertical-align: middle;\n    }\n\n    .dataframe tbody tr th {\n        vertical-align: top;\n    }\n\n    .dataframe thead th {\n        text-align: right;\n    }\n</style>\n<table border=\"1\" class=\"dataframe\">\n  <thead>\n    <tr style=\"text-align: right;\">\n      <th></th>\n      <th>Date</th>\n      <th>Start</th>\n      <th>End</th>\n      <th>Duration [hrs]</th>\n      <th>Subject</th>\n      <th>Action</th>\n      <th>Semester</th>\n    </tr>\n  </thead>\n  <tbody>\n    <tr>\n      <th>0</th>\n      <td>28.9.2020.</td>\n      <td>2020-09-28 12:00:00</td>\n      <td>2020-09-28 14:00:00</td>\n      <td>2.0</td>\n      <td>INZEKO1</td>\n      <td>lesson</td>\n      <td>W</td>\n    </tr>\n    <tr>\n      <th>1</th>\n      <td>28.9.2020.</td>\n      <td>2020-09-28 16:00:00</td>\n      <td>2020-09-28 19:00:00</td>\n      <td>3.0</td>\n      <td>OPRPP1</td>\n      <td>lesson</td>\n      <td>W</td>\n    </tr>\n    <tr>\n      <th>2</th>\n      <td>29.9.2020.</td>\n      <td>2020-09-29 13:00:00</td>\n      <td>2020-09-29 16:00:00</td>\n      <td>3.0</td>\n      <td>PI</td>\n      <td>lesson</td>\n      <td>W</td>\n    </tr>\n    <tr>\n      <th>3</th>\n      <td>29.9.2020.</td>\n      <td>2020-09-29 16:00:00</td>\n      <td>2020-09-29 19:00:00</td>\n      <td>3.0</td>\n      <td>SAP</td>\n      <td>lesson</td>\n      <td>W</td>\n    </tr>\n    <tr>\n      <th>4</th>\n      <td>30.9.2020.</td>\n      <td>2020-09-30 09:00:00</td>\n      <td>2020-09-30 10:00:00</td>\n      <td>1.0</td>\n      <td>PPJ</td>\n      <td>lesson</td>\n      <td>W</td>\n    </tr>\n  </tbody>\n</table>\n</div>"
     },
     "execution_count": 59,
     "metadata": {},
     "output_type": "execute_result"
    }
   ],
   "source": [
    "df = transform_datasets(winter_df, summer_df)\n",
    "df.head()"
   ],
   "metadata": {
    "collapsed": false,
    "pycharm": {
     "name": "#%%\n"
    }
   }
  },
  {
   "cell_type": "markdown",
   "source": [
    "## Total duration spent per subject"
   ],
   "metadata": {
    "collapsed": false
   }
  },
  {
   "cell_type": "code",
   "execution_count": 60,
   "outputs": [
    {
     "data": {
      "text/plain": "            Duration [hrs]  ECTS  Min exp duration [hrs]  \\\nSubject                                                    \nBA_THESIS       109.500000    10                     250   \nBA_PROJECT       24.916667     8                     200   \nOPRPP1          161.416667     5                     125   \nPI              139.250000     5                     125   \nSAP             104.166667     5                     125   \nOOUP             91.000000     5                     125   \nPPJ              60.833333     5                     125   \nBIOINF           10.000000     5                     125   \nUUI              86.500000     4                     100   \nSRS              69.500000     4                     100   \nIUT              31.500000     2                      50   \nINZEKO1          19.500000     2                      50   \n\n            Max exp duration [hrs]  \nSubject                             \nBA_THESIS                      300  \nBA_PROJECT                     240  \nOPRPP1                         150  \nPI                             150  \nSAP                            150  \nOOUP                           150  \nPPJ                            150  \nBIOINF                         150  \nUUI                            120  \nSRS                            120  \nIUT                             60  \nINZEKO1                         60  ",
      "text/html": "<div>\n<style scoped>\n    .dataframe tbody tr th:only-of-type {\n        vertical-align: middle;\n    }\n\n    .dataframe tbody tr th {\n        vertical-align: top;\n    }\n\n    .dataframe thead th {\n        text-align: right;\n    }\n</style>\n<table border=\"1\" class=\"dataframe\">\n  <thead>\n    <tr style=\"text-align: right;\">\n      <th></th>\n      <th>Duration [hrs]</th>\n      <th>ECTS</th>\n      <th>Min exp duration [hrs]</th>\n      <th>Max exp duration [hrs]</th>\n    </tr>\n    <tr>\n      <th>Subject</th>\n      <th></th>\n      <th></th>\n      <th></th>\n      <th></th>\n    </tr>\n  </thead>\n  <tbody>\n    <tr>\n      <th>BA_THESIS</th>\n      <td>109.500000</td>\n      <td>10</td>\n      <td>250</td>\n      <td>300</td>\n    </tr>\n    <tr>\n      <th>BA_PROJECT</th>\n      <td>24.916667</td>\n      <td>8</td>\n      <td>200</td>\n      <td>240</td>\n    </tr>\n    <tr>\n      <th>OPRPP1</th>\n      <td>161.416667</td>\n      <td>5</td>\n      <td>125</td>\n      <td>150</td>\n    </tr>\n    <tr>\n      <th>PI</th>\n      <td>139.250000</td>\n      <td>5</td>\n      <td>125</td>\n      <td>150</td>\n    </tr>\n    <tr>\n      <th>SAP</th>\n      <td>104.166667</td>\n      <td>5</td>\n      <td>125</td>\n      <td>150</td>\n    </tr>\n    <tr>\n      <th>OOUP</th>\n      <td>91.000000</td>\n      <td>5</td>\n      <td>125</td>\n      <td>150</td>\n    </tr>\n    <tr>\n      <th>PPJ</th>\n      <td>60.833333</td>\n      <td>5</td>\n      <td>125</td>\n      <td>150</td>\n    </tr>\n    <tr>\n      <th>BIOINF</th>\n      <td>10.000000</td>\n      <td>5</td>\n      <td>125</td>\n      <td>150</td>\n    </tr>\n    <tr>\n      <th>UUI</th>\n      <td>86.500000</td>\n      <td>4</td>\n      <td>100</td>\n      <td>120</td>\n    </tr>\n    <tr>\n      <th>SRS</th>\n      <td>69.500000</td>\n      <td>4</td>\n      <td>100</td>\n      <td>120</td>\n    </tr>\n    <tr>\n      <th>IUT</th>\n      <td>31.500000</td>\n      <td>2</td>\n      <td>50</td>\n      <td>60</td>\n    </tr>\n    <tr>\n      <th>INZEKO1</th>\n      <td>19.500000</td>\n      <td>2</td>\n      <td>50</td>\n      <td>60</td>\n    </tr>\n  </tbody>\n</table>\n</div>"
     },
     "execution_count": 60,
     "metadata": {},
     "output_type": "execute_result"
    }
   ],
   "source": [
    "dur_df = df[['Subject', 'Duration [hrs]']].groupby(['Subject']).sum()\n",
    "dur_df = dur_df.join(other=ects.set_index('Subject'), how='inner')\n",
    "dur_df = dur_df.sort_values(by=['ECTS', 'Duration [hrs]'], ascending=False)\n",
    "\n",
    "dur_df['Min exp duration [hrs]'] = dur_df['ECTS'] * 25\n",
    "dur_df['Max exp duration [hrs]'] = dur_df['ECTS'] * 30\n",
    "\n",
    "dur_df"
   ],
   "metadata": {
    "collapsed": false,
    "pycharm": {
     "name": "#%%\n"
    }
   }
  },
  {
   "cell_type": "code",
   "execution_count": 84,
   "outputs": [
    {
     "data": {
      "text/plain": "109.5"
     },
     "execution_count": 84,
     "metadata": {},
     "output_type": "execute_result"
    }
   ],
   "source": [
    "dur_df['Duration [hrs]']['BA_THESIS']"
   ],
   "metadata": {
    "collapsed": false,
    "pycharm": {
     "name": "#%%\n"
    }
   }
  },
  {
   "cell_type": "code",
   "execution_count": 92,
   "outputs": [
    {
     "data": {
      "text/plain": "<Figure size 1080x720 with 1 Axes>",
      "image/png": "[encoded data removed]"
     },
     "metadata": {
      "needs_background": "light"
     },
     "output_type": "display_data"
    }
   ],
   "source": [
    "plt.figure(figsize=(15,10))\n",
    "subjects = dur_df.index.to_numpy()\n",
    "\n",
    "plt.yticks(range(len(subjects)), subjects)\n",
    "plt.xticks(range(50, 300, 50))\n",
    "\n",
    "for idx, subject in enumerate(subjects):\n",
    "    plt.plot([dur_df['Min exp duration [hrs]'][subject], dur_df['Max exp duration [hrs]'][subject]], [idx, idx], lw=20)\n",
    "    plt.plot([dur_df['Duration [hrs]'][subject], dur_df['Duration [hrs]'][subject]], [idx, idx], 'k-', lw=20)\n",
    "\n"
   ],
   "metadata": {
    "collapsed": false,
    "pycharm": {
     "name": "#%%\n"
    }
   }
  },
  {
   "cell_type": "code",
   "execution_count": 64,
   "outputs": [
    {
     "data": {
      "text/plain": "<Figure size 432x288 with 1 Axes>",
      "image/png": "[encoded data removed]"
     },
     "metadata": {
      "needs_background": "light"
     },
     "output_type": "display_data"
    }
   ],
   "source": [
    "plt.plot([1000, 2000], [5, 5], lw=10, color=\"orange\", solid_capstyle=\"butt\")#Setting capstyle to butt, because otherwise the length of the line is slightly longer, than required\n",
    "plt.yticks(range(10))\n",
    "plt.xticks(range(500, 3000, 500))\n",
    "plt.margins(0.5)\n",
    "plt.show()"
   ],
   "metadata": {
    "collapsed": false,
    "pycharm": {
     "name": "#%%\n"
    }
   }
  }
 ],
 "metadata": {
  "kernelspec": {
   "display_name": "Python 3",
   "language": "python",
   "name": "python3"
  },
  "language_info": {
   "codemirror_mode": {
    "name": "ipython",
    "version": 2
   },
   "file_extension": ".py",
   "mimetype": "text/x-python",
   "name": "python",
   "nbconvert_exporter": "python",
   "pygments_lexer": "ipython2",
   "version": "2.7.6"
  }
 },
 "nbformat": 4,
 "nbformat_minor": 0
}